{
 "cells": [
  {
   "cell_type": "code",
   "execution_count": 1,
   "metadata": {},
   "outputs": [],
   "source": [
    "import os\n",
    "import re"
   ]
  },
  {
   "cell_type": "code",
   "execution_count": 17,
   "metadata": {},
   "outputs": [
    {
     "name": "stdout",
     "output_type": "stream",
     "text": [
      "Counter imports: 3\n"
     ]
    },
    {
     "data": {
      "text/plain": [
       "['setuptools==57.4.0', 'sklearn==0.24.1']"
      ]
     },
     "execution_count": 17,
     "metadata": {},
     "output_type": "execute_result"
    }
   ],
   "source": [
    "imports = []\n",
    "for root, subdirs, files in os.walk(\".\"):\n",
    "    \n",
    "    paths = []\n",
    "    for file in [f for f in files if '.py' in f[-3:]]:\n",
    "        py_path = os.path.join(root, file)\n",
    "        paths.append(py_path)\n",
    "        \n",
    "    \n",
    "    for file_path in paths:\n",
    "        with open(file_path, 'r') as f:\n",
    "            for line in f:\n",
    "                line_tokens = line.split()\n",
    "                if \"import\" in line_tokens:\n",
    "                    imports.append(line[:-1])\n",
    "                    \n",
    "print(f\"Counter imports: {len(imports)}\")\n",
    "\n",
    "imports_and_versions = []\n",
    "for import_string in imports:\n",
    "    if \"from\" in import_string.split():\n",
    "        import_string = re.sub(\"import.*\", \"\", import_string)\n",
    "    import_string = import_string.split('.')[0]\n",
    "    import_string = re.sub(\"(import|from)\", \"\", import_string).replace(\" \", \"\")\n",
    "    exec(f\"import {import_string}\")\n",
    "    try:\n",
    "        name = eval(f\"{import_string}.__name__\")\n",
    "        vers = eval(f\"{import_string}.__version__\")\n",
    "        imports_and_versions.append(f\"{name}=={vers}\")\n",
    "    except AttributeError as e:\n",
    "        pass\n",
    "    \n",
    "with open(\"repo_modules.txt\", \"w\") as f:\n",
    "    for case in imports_and_versions:\n",
    "        f.write(case + \"\\n\")\n",
    "        \n",
    "imports_and_versions\n",
    "            "
   ]
  },
  {
   "cell_type": "code",
   "execution_count": 3,
   "metadata": {},
   "outputs": [
    {
     "data": {
      "text/plain": [
       "0"
      ]
     },
     "execution_count": 3,
     "metadata": {},
     "output_type": "execute_result"
    }
   ],
   "source": [
    "os.system(\"pip freeze | grep os\")"
   ]
  },
  {
   "cell_type": "code",
   "execution_count": 4,
   "metadata": {},
   "outputs": [
    {
     "data": {
      "text/plain": [
       "['scikit-learn==0.24.1', 'scikit-optimize==0.8.1', '']"
      ]
     },
     "execution_count": 4,
     "metadata": {},
     "output_type": "execute_result"
    }
   ],
   "source": [
    "import os\n",
    "stream = os.popen(\"pip freeze | grep \\\"scikit\\\"\")\n",
    "output = stream.read()\n",
    "output.split(\"\\n\")"
   ]
  },
  {
   "cell_type": "code",
   "execution_count": 5,
   "metadata": {},
   "outputs": [
    {
     "data": {
      "text/plain": [
       "'sklearn'"
      ]
     },
     "execution_count": 5,
     "metadata": {},
     "output_type": "execute_result"
    }
   ],
   "source": [
    "import sklearn\n",
    "sklearn.__name__"
   ]
  },
  {
   "cell_type": "code",
   "execution_count": null,
   "metadata": {},
   "outputs": [],
   "source": []
  }
 ],
 "metadata": {
  "kernelspec": {
   "display_name": "Python 3",
   "language": "python",
   "name": "python3"
  },
  "language_info": {
   "codemirror_mode": {
    "name": "ipython",
    "version": 3
   },
   "file_extension": ".py",
   "mimetype": "text/x-python",
   "name": "python",
   "nbconvert_exporter": "python",
   "pygments_lexer": "ipython3",
   "version": "3.6.8"
  }
 },
 "nbformat": 4,
 "nbformat_minor": 4
}
